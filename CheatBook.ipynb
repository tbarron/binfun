{
  "cells": [
    {
      "metadata": {},
      "cell_type": "markdown",
      "source": "# Jupyter Cheatbook\n\nThe goal of this project is to produce a (moderately) complete set of minimal documentation for Jupyter notebooks\n\n## Installing jupyter with pip\n\npip install jupyter\n\n\n## Or use an online notebook\n\n* https://notebooks.azure.com/home/projects\n"
    },
    {
      "metadata": {},
      "cell_type": "markdown",
      "source": "## Keyboard Shortcuts\n\n* Esc     Command mode on active cell\n* Enter   Edit mode on active cell\n\n### In Command mode\n\n  * UpArrow    jump to preceding cell\n  * DnArrow    jump to next cell\n  * A          add a new cell above the current cell\n  * B          add a new cell after the current cell\n  * M          convert active cell to a [Markdown](https://www.markdownguide.org/) cell\n  * Y          convert active cell to a code cell\n  * D+D        hitting D twice will delete the active cell\n  * Z          undo cell deletion\n  * Shift Up   select multiple cells\n  * Shift Dn   select multiple cells\n  * Shfit M    merge selected cells\n  \nIs there a keyboard shortcut for moving cells up and down the notebook?\n  \n### In Edit mode\n\n  * Ctrl + Shift + -    split the active cell at the cursor"
    },
    {
      "metadata": {},
      "cell_type": "markdown",
      "source": "## Markdown summary\n\n   \\# level 1 heading\n   \\## level 2 heading\n   \nPlain text preceded and followed by empty lines forms a paragraph.\n\n**Double asterisk** or __double underline__ makes text bold.\n\n*Single asterisk* or _single underline_ makes text italic.\n\n* Bullet lists are formed\n  * by putting an asterisk\n  * in the left margin\n  \n1. Numbered lists\n2. have numbers in the left margin\n\n[Hyperlinks](https://example.org) are formed by putting the text in square brackets and the url in parentheses.\n\nInline code is indicated with backticks: `example()`\n\nA block of code can be indicated with three backticks:\n\n```\nxyzzy()\n```\n\nor indented four spaces:\n\n    xyzzy()\n"
    },
    {
      "metadata": {},
      "cell_type": "markdown",
      "source": "## Kernels\n\nAll cells in a notebook run in the same kernel. This means that variables and functions defined in any cell persist for the life of the kernel and can be used in other cells.\n\nNumbers to the left of code cells indicate the order in which cells were run so you can track the state of the kernel.\n\n\n### Kernel Menu Commands\n\n* Restart                restart the kernel, wiping out variables and functions\n* Restart & Clear Output restart the kernel, removing output from the notebook\n* Restart & Run All      restart the kernel and run all cells in order\n* Interrupt              stop a long running kernel\n"
    }
  ],
  "metadata": {
    "kernelspec": {
      "name": "python3",
      "display_name": "Python 3",
      "language": "python"
    },
    "language_info": {
      "mimetype": "text/x-python",
      "nbconvert_exporter": "python",
      "name": "python",
      "file_extension": ".py",
      "version": "3.5.4",
      "pygments_lexer": "ipython3",
      "codemirror_mode": {
        "version": 3,
        "name": "ipython"
      }
    }
  },
  "nbformat": 4,
  "nbformat_minor": 1
}